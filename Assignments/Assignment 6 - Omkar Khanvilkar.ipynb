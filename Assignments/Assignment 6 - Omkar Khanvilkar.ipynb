{
 "cells": [
  {
   "cell_type": "markdown",
   "id": "a9b35579",
   "metadata": {},
   "source": [
    "## Name : Omkar Khanvilkar\n",
    "## Assignment 6\n",
    "## Download iris dataset and usual libraries"
   ]
  },
  {
   "cell_type": "code",
   "execution_count": 22,
   "id": "8f0ca2a8",
   "metadata": {},
   "outputs": [],
   "source": [
    "# Python ≥3.5 is required\n",
    "import sys\n",
    "\n",
    "# Scikit-Learn ≥0.20 is required\n",
    "import sklearn\n",
    "import seaborn as sns\n",
    "\n",
    "# Common imports\n",
    "import numpy as np\n",
    "import os\n",
    "\n",
    "# To plot pretty figures\n",
    "%matplotlib inline\n",
    "import matplotlib as mpl\n",
    "import matplotlib.pyplot as plt\n",
    "import pandas as pd\n",
    "mpl.rc('axes', labelsize=14)\n",
    "mpl.rc('xtick', labelsize=12)\n",
    "mpl.rc('ytick', labelsize=12)"
   ]
  },
  {
   "cell_type": "code",
   "execution_count": 23,
   "id": "03acc207",
   "metadata": {},
   "outputs": [],
   "source": [
    "from sklearn.datasets import load_iris\n",
    "iris_data = load_iris()"
   ]
  },
  {
   "cell_type": "code",
   "execution_count": 24,
   "id": "3fb6f9e5",
   "metadata": {},
   "outputs": [],
   "source": [
    "df = pd.DataFrame(iris_data['data'], columns=['SepalLength','SepalWidth','PetalLength','PetalWidth'])"
   ]
  },
  {
   "cell_type": "markdown",
   "id": "d051b65a",
   "metadata": {},
   "source": [
    "## [Added step A] - Use GMM to separate the clusters using all 4 features: petal length & width, and sepal length & width. Map each cluster to a class by picking the most common class for each cluster (using the scipy.stats.mode() function)"
   ]
  },
  {
   "cell_type": "code",
   "execution_count": 25,
   "id": "139a97fa",
   "metadata": {},
   "outputs": [],
   "source": [
    "from sklearn.mixture import GaussianMixture\n",
    "gmm = GaussianMixture(n_components=3)\n",
    "gmm.fit(df)\n",
    "clusters = gmm.predict(df)"
   ]
  },
  {
   "cell_type": "code",
   "execution_count": 26,
   "id": "b1ad9097",
   "metadata": {},
   "outputs": [],
   "source": [
    "df[\"gmm_cluster\"] = clusters"
   ]
  },
  {
   "cell_type": "code",
   "execution_count": 27,
   "id": "cec26d6f",
   "metadata": {},
   "outputs": [],
   "source": [
    "df[\"target\"] = iris_data['target']"
   ]
  },
  {
   "cell_type": "code",
   "execution_count": 28,
   "id": "34aeef05",
   "metadata": {},
   "outputs": [
    {
     "data": {
      "text/html": [
       "<div>\n",
       "<style scoped>\n",
       "    .dataframe tbody tr th:only-of-type {\n",
       "        vertical-align: middle;\n",
       "    }\n",
       "\n",
       "    .dataframe tbody tr th {\n",
       "        vertical-align: top;\n",
       "    }\n",
       "\n",
       "    .dataframe thead th {\n",
       "        text-align: right;\n",
       "    }\n",
       "</style>\n",
       "<table border=\"1\" class=\"dataframe\">\n",
       "  <thead>\n",
       "    <tr style=\"text-align: right;\">\n",
       "      <th></th>\n",
       "      <th>SepalLength</th>\n",
       "      <th>SepalWidth</th>\n",
       "      <th>PetalLength</th>\n",
       "      <th>PetalWidth</th>\n",
       "      <th>gmm_cluster</th>\n",
       "      <th>target</th>\n",
       "    </tr>\n",
       "  </thead>\n",
       "  <tbody>\n",
       "    <tr>\n",
       "      <th>0</th>\n",
       "      <td>5.1</td>\n",
       "      <td>3.5</td>\n",
       "      <td>1.4</td>\n",
       "      <td>0.2</td>\n",
       "      <td>0</td>\n",
       "      <td>0</td>\n",
       "    </tr>\n",
       "    <tr>\n",
       "      <th>1</th>\n",
       "      <td>4.9</td>\n",
       "      <td>3.0</td>\n",
       "      <td>1.4</td>\n",
       "      <td>0.2</td>\n",
       "      <td>0</td>\n",
       "      <td>0</td>\n",
       "    </tr>\n",
       "    <tr>\n",
       "      <th>2</th>\n",
       "      <td>4.7</td>\n",
       "      <td>3.2</td>\n",
       "      <td>1.3</td>\n",
       "      <td>0.2</td>\n",
       "      <td>0</td>\n",
       "      <td>0</td>\n",
       "    </tr>\n",
       "    <tr>\n",
       "      <th>3</th>\n",
       "      <td>4.6</td>\n",
       "      <td>3.1</td>\n",
       "      <td>1.5</td>\n",
       "      <td>0.2</td>\n",
       "      <td>0</td>\n",
       "      <td>0</td>\n",
       "    </tr>\n",
       "    <tr>\n",
       "      <th>4</th>\n",
       "      <td>5.0</td>\n",
       "      <td>3.6</td>\n",
       "      <td>1.4</td>\n",
       "      <td>0.2</td>\n",
       "      <td>0</td>\n",
       "      <td>0</td>\n",
       "    </tr>\n",
       "    <tr>\n",
       "      <th>...</th>\n",
       "      <td>...</td>\n",
       "      <td>...</td>\n",
       "      <td>...</td>\n",
       "      <td>...</td>\n",
       "      <td>...</td>\n",
       "      <td>...</td>\n",
       "    </tr>\n",
       "    <tr>\n",
       "      <th>145</th>\n",
       "      <td>6.7</td>\n",
       "      <td>3.0</td>\n",
       "      <td>5.2</td>\n",
       "      <td>2.3</td>\n",
       "      <td>2</td>\n",
       "      <td>2</td>\n",
       "    </tr>\n",
       "    <tr>\n",
       "      <th>146</th>\n",
       "      <td>6.3</td>\n",
       "      <td>2.5</td>\n",
       "      <td>5.0</td>\n",
       "      <td>1.9</td>\n",
       "      <td>2</td>\n",
       "      <td>2</td>\n",
       "    </tr>\n",
       "    <tr>\n",
       "      <th>147</th>\n",
       "      <td>6.5</td>\n",
       "      <td>3.0</td>\n",
       "      <td>5.2</td>\n",
       "      <td>2.0</td>\n",
       "      <td>2</td>\n",
       "      <td>2</td>\n",
       "    </tr>\n",
       "    <tr>\n",
       "      <th>148</th>\n",
       "      <td>6.2</td>\n",
       "      <td>3.4</td>\n",
       "      <td>5.4</td>\n",
       "      <td>2.3</td>\n",
       "      <td>2</td>\n",
       "      <td>2</td>\n",
       "    </tr>\n",
       "    <tr>\n",
       "      <th>149</th>\n",
       "      <td>5.9</td>\n",
       "      <td>3.0</td>\n",
       "      <td>5.1</td>\n",
       "      <td>1.8</td>\n",
       "      <td>2</td>\n",
       "      <td>2</td>\n",
       "    </tr>\n",
       "  </tbody>\n",
       "</table>\n",
       "<p>150 rows × 6 columns</p>\n",
       "</div>"
      ],
      "text/plain": [
       "     SepalLength  SepalWidth  PetalLength  PetalWidth  gmm_cluster  target\n",
       "0            5.1         3.5          1.4         0.2            0       0\n",
       "1            4.9         3.0          1.4         0.2            0       0\n",
       "2            4.7         3.2          1.3         0.2            0       0\n",
       "3            4.6         3.1          1.5         0.2            0       0\n",
       "4            5.0         3.6          1.4         0.2            0       0\n",
       "..           ...         ...          ...         ...          ...     ...\n",
       "145          6.7         3.0          5.2         2.3            2       2\n",
       "146          6.3         2.5          5.0         1.9            2       2\n",
       "147          6.5         3.0          5.2         2.0            2       2\n",
       "148          6.2         3.4          5.4         2.3            2       2\n",
       "149          5.9         3.0          5.1         1.8            2       2\n",
       "\n",
       "[150 rows x 6 columns]"
      ]
     },
     "execution_count": 28,
     "metadata": {},
     "output_type": "execute_result"
    }
   ],
   "source": [
    "df"
   ]
  },
  {
   "cell_type": "code",
   "execution_count": 29,
   "id": "5dec2257",
   "metadata": {},
   "outputs": [],
   "source": [
    "df_result = df.groupby(['target'])[\"gmm_cluster\"].value_counts()"
   ]
  },
  {
   "cell_type": "code",
   "execution_count": 30,
   "id": "064a2617",
   "metadata": {},
   "outputs": [
    {
     "name": "stdout",
     "output_type": "stream",
     "text": [
      "target  gmm_cluster\n",
      "0       0              50\n",
      "1       1              45\n",
      "        2               5\n",
      "2       2              50\n",
      "Name: gmm_cluster, dtype: int64\n"
     ]
    }
   ],
   "source": [
    "print(df_result)"
   ]
  },
  {
   "cell_type": "markdown",
   "id": "ecfcb678",
   "metadata": {},
   "source": [
    "## The data above reveals that 5 of the 50 data points were incorrectly projected as 2 when they are really 1.\n",
    "\n",
    "## This conclusion is useful for dealing with errors where we may set all of the predictions to 1."
   ]
  },
  {
   "cell_type": "code",
   "execution_count": 32,
   "id": "1fea782a",
   "metadata": {},
   "outputs": [
    {
     "data": {
      "text/plain": [
       "[(2, 55), (0, 50), (1, 45)]"
      ]
     },
     "execution_count": 32,
     "metadata": {},
     "output_type": "execute_result"
    }
   ],
   "source": [
    "from collections import Counter\n",
    "c = Counter(clusters)\n",
    "c.most_common()"
   ]
  },
  {
   "cell_type": "code",
   "execution_count": 33,
   "id": "4f77d399",
   "metadata": {},
   "outputs": [],
   "source": [
    "from scipy import stats"
   ]
  },
  {
   "cell_type": "code",
   "execution_count": 36,
   "id": "9647e1a8",
   "metadata": {},
   "outputs": [
    {
     "data": {
      "text/plain": [
       "ModeResult(mode=array([0]), count=array([50]))"
      ]
     },
     "execution_count": 36,
     "metadata": {},
     "output_type": "execute_result"
    }
   ],
   "source": [
    "stats.mode(df[df['gmm_cluster'] == 0]['target'])"
   ]
  },
  {
   "cell_type": "code",
   "execution_count": 37,
   "id": "1f20c710",
   "metadata": {},
   "outputs": [
    {
     "data": {
      "text/plain": [
       "ModeResult(mode=array([1]), count=array([45]))"
      ]
     },
     "execution_count": 37,
     "metadata": {},
     "output_type": "execute_result"
    }
   ],
   "source": [
    "stats.mode(df[df['gmm_cluster'] == 1]['target'])"
   ]
  },
  {
   "cell_type": "code",
   "execution_count": 38,
   "id": "0e865927",
   "metadata": {},
   "outputs": [
    {
     "data": {
      "text/plain": [
       "ModeResult(mode=array([2]), count=array([50]))"
      ]
     },
     "execution_count": 38,
     "metadata": {},
     "output_type": "execute_result"
    }
   ],
   "source": [
    "stats.mode(df[df['gmm_cluster'] == 2]['target'])"
   ]
  },
  {
   "cell_type": "code",
   "execution_count": 42,
   "id": "654445d3",
   "metadata": {},
   "outputs": [
    {
     "data": {
      "text/plain": [
       "68     1\n",
       "70     1\n",
       "72     1\n",
       "77     1\n",
       "83     1\n",
       "100    2\n",
       "101    2\n",
       "102    2\n",
       "103    2\n",
       "104    2\n",
       "105    2\n",
       "106    2\n",
       "107    2\n",
       "108    2\n",
       "109    2\n",
       "110    2\n",
       "111    2\n",
       "112    2\n",
       "113    2\n",
       "114    2\n",
       "115    2\n",
       "116    2\n",
       "117    2\n",
       "118    2\n",
       "119    2\n",
       "120    2\n",
       "121    2\n",
       "122    2\n",
       "123    2\n",
       "124    2\n",
       "125    2\n",
       "126    2\n",
       "127    2\n",
       "128    2\n",
       "129    2\n",
       "130    2\n",
       "131    2\n",
       "132    2\n",
       "133    2\n",
       "134    2\n",
       "135    2\n",
       "136    2\n",
       "137    2\n",
       "138    2\n",
       "139    2\n",
       "140    2\n",
       "141    2\n",
       "142    2\n",
       "143    2\n",
       "144    2\n",
       "145    2\n",
       "146    2\n",
       "147    2\n",
       "148    2\n",
       "149    2\n",
       "Name: target, dtype: int32"
      ]
     },
     "execution_count": 42,
     "metadata": {},
     "output_type": "execute_result"
    }
   ],
   "source": [
    "df[df['gmm_cluster'] == 2]['target']"
   ]
  },
  {
   "cell_type": "markdown",
   "id": "fdc32086",
   "metadata": {},
   "source": [
    "## [Added step B] - Report value of np.sum(y_pred==y) / len(y_pred)"
   ]
  },
  {
   "cell_type": "code",
   "execution_count": 43,
   "id": "cc5576e3",
   "metadata": {},
   "outputs": [],
   "source": [
    "y_pred = clusters\n",
    "y = iris_data['target']"
   ]
  },
  {
   "cell_type": "code",
   "execution_count": 44,
   "id": "4c501a1f",
   "metadata": {},
   "outputs": [
    {
     "data": {
      "text/plain": [
       "0.9666666666666667"
      ]
     },
     "execution_count": 44,
     "metadata": {},
     "output_type": "execute_result"
    }
   ],
   "source": [
    "np.sum(y_pred==y) / len(y_pred) "
   ]
  },
  {
   "cell_type": "markdown",
   "id": "bfb1ec46",
   "metadata": {},
   "source": [
    "## [Added step C] - Generate blobs from a new dataset, use “ from sklearn.datasets import make_blobs”"
   ]
  },
  {
   "cell_type": "code",
   "execution_count": 45,
   "id": "ac306dab",
   "metadata": {},
   "outputs": [],
   "source": [
    "from sklearn.datasets import make_blobs\n",
    "X, y = make_blobs(n_samples = 2000, cluster_std=np.array([0.4, 0.3, 0.1, 0.1, 0.1]), random_state=2, centers=np.array(\n",
    "    [[ 0.2,  2.3],\n",
    "     [-1.5 ,  2.3],\n",
    "     [-2.8,  1.8],\n",
    "     [-2.8,  2.8],\n",
    "     [-2.8,  1.3]]),)"
   ]
  },
  {
   "cell_type": "markdown",
   "id": "ff61eacb",
   "metadata": {},
   "source": [
    "## Plot the blobs"
   ]
  },
  {
   "cell_type": "code",
   "execution_count": 47,
   "id": "e6f90137",
   "metadata": {},
   "outputs": [
    {
     "data": {
      "image/png": "[encoded data removed]",
      "text/plain": [
       "<Figure size 432x288 with 1 Axes>"
      ]
     },
     "metadata": {
      "needs_background": "light"
     },
     "output_type": "display_data"
    }
   ],
   "source": [
    "plt.scatter(X[:, 0], X[:, 1], s=10);"
   ]
  },
  {
   "cell_type": "markdown",
   "id": "b451cc83",
   "metadata": {},
   "source": [
    "## Train k-means to train on this dataset"
   ]
  },
  {
   "cell_type": "code",
   "execution_count": 48,
   "id": "652f4841",
   "metadata": {},
   "outputs": [],
   "source": [
    "from sklearn.cluster import KMeans\n",
    "kmeans = KMeans(n_clusters=5)\n",
    "kmeans.fit(X)\n",
    "y_kmeans = kmeans.predict(X)"
   ]
  },
  {
   "cell_type": "markdown",
   "id": "cc83302a",
   "metadata": {},
   "source": [
    "## Given X_new = np.array([[0, 2], [3, 2], [-3, 3], [-3, 2.5]]), predict labels of new instances"
   ]
  },
  {
   "cell_type": "code",
   "execution_count": 49,
   "id": "43e42830",
   "metadata": {},
   "outputs": [],
   "source": [
    "X_new = np.array([[0,2],[3,2],[-3,3],[-3,2.5]])"
   ]
  },
  {
   "cell_type": "code",
   "execution_count": 51,
   "id": "3fcabf0a",
   "metadata": {},
   "outputs": [],
   "source": [
    "y_new_Kmean = kmeans.predict(X_new)"
   ]
  },
  {
   "cell_type": "code",
   "execution_count": 52,
   "id": "a0948d78",
   "metadata": {},
   "outputs": [
    {
     "data": {
      "text/plain": [
       "array([2, 2, 3, 3])"
      ]
     },
     "execution_count": 52,
     "metadata": {},
     "output_type": "execute_result"
    }
   ],
   "source": [
    "y_new_Kmean"
   ]
  },
  {
   "cell_type": "code",
   "execution_count": 53,
   "id": "e9f874bb",
   "metadata": {},
   "outputs": [
    {
     "data": {
      "image/png": "[encoded data removed]",
      "text/plain": [
       "<Figure size 432x288 with 1 Axes>"
      ]
     },
     "metadata": {
      "needs_background": "light"
     },
     "output_type": "display_data"
    }
   ],
   "source": [
    "plt.scatter(X[:, 0], X[:, 1], c=y_kmeans, s=10, cmap='viridis')\n",
    "centers = kmeans.cluster_centers_\n",
    "plt.scatter(centers[:, 0], centers[:, 1], c='red', s=200, alpha=0.5);"
   ]
  },
  {
   "cell_type": "markdown",
   "id": "e0ea19b1",
   "metadata": {},
   "source": [
    "## Print the value of the centroid"
   ]
  },
  {
   "cell_type": "code",
   "execution_count": 54,
   "id": "3fa14898",
   "metadata": {},
   "outputs": [
    {
     "data": {
      "text/plain": [
       "array([[-1.46924256,  2.27312876],\n",
       "       [-2.79972331,  1.29106305],\n",
       "       [ 0.20527099,  2.26255783],\n",
       "       [-2.78874822,  2.79362203],\n",
       "       [-2.78298281,  1.80067996]])"
      ]
     },
     "execution_count": 54,
     "metadata": {},
     "output_type": "execute_result"
    }
   ],
   "source": [
    "centers"
   ]
  },
  {
   "cell_type": "markdown",
   "id": "c851dd02",
   "metadata": {},
   "source": [
    "## Plot model’s decision boundaries using data, centroids,decision boundaries. Result should be a voronoi_plot"
   ]
  },
  {
   "cell_type": "code",
   "execution_count": 55,
   "id": "01d0f7bf",
   "metadata": {},
   "outputs": [
    {
     "data": {
      "image/png": "[encoded data removed]",
      "text/plain": [
       "<Figure size 432x288 with 1 Axes>"
      ]
     },
     "metadata": {
      "needs_background": "light"
     },
     "output_type": "display_data"
    }
   ],
   "source": [
    "from scipy.spatial import Voronoi, voronoi_plot_2d\n",
    "vor = Voronoi(centers)\n",
    "import matplotlib.pyplot as plt\n",
    "fig = voronoi_plot_2d(vor)\n",
    "plt.show()"
   ]
  },
  {
   "cell_type": "markdown",
   "id": "c1d58d7c",
   "metadata": {},
   "source": [
    "## Set values of k = 3 and k = 8, explain your results in both cases by means of the resultant intertia"
   ]
  },
  {
   "cell_type": "code",
   "execution_count": 58,
   "id": "6e23fe38",
   "metadata": {},
   "outputs": [
    {
     "name": "stdout",
     "output_type": "stream",
     "text": [
      "651.3997089544977\n"
     ]
    }
   ],
   "source": [
    "kmeans = KMeans(n_clusters=3)\n",
    "kmeans.fit(X)\n",
    "print(kmeans.inertia_)"
   ]
  },
  {
   "cell_type": "code",
   "execution_count": 59,
   "id": "552c1185",
   "metadata": {},
   "outputs": [
    {
     "name": "stdout",
     "output_type": "stream",
     "text": [
      "125.34960690871421\n"
     ]
    }
   ],
   "source": [
    "kmeans = KMeans(n_clusters=8)\n",
    "kmeans.fit(X)\n",
    "print(kmeans.inertia_)"
   ]
  },
  {
   "cell_type": "code",
   "execution_count": null,
   "id": "c726c8a4",
   "metadata": {},
   "outputs": [],
   "source": [
    "# Inertia measures how well a dataset was clustered by K-Means.  A good model is one with low inertia AND a low number of clusters ( K ).\n",
    "# When we utilized a cluster of three, the inertia was 651; however, when we used a cluster of eight, the inertia dropped dramatically to 125.\n",
    "# "
   ]
  },
  {
   "cell_type": "markdown",
   "id": "2d7f4bfe",
   "metadata": {},
   "source": [
    "## plot the inertia as a function of k and analyze the resulting curve, show plots,"
   ]
  },
  {
   "cell_type": "code",
   "execution_count": 62,
   "id": "5f1b28c0",
   "metadata": {},
   "outputs": [
    {
     "name": "stdout",
     "output_type": "stream",
     "text": [
      "651.3997089544976\n",
      "269.9339858587969\n",
      "217.62251288601303\n",
      "175.09069815373556\n",
      "147.07815229225636\n",
      "125.38511383241688\n"
     ]
    }
   ],
   "source": [
    "inertia_Val = []\n",
    "for i in range(3, 9):\n",
    "    kmeans = KMeans(n_clusters=i)\n",
    "    kmeans.fit(X)\n",
    "    print(kmeans.inertia_)\n",
    "    inertia_Val.append(kmeans.inertia_)"
   ]
  },
  {
   "cell_type": "code",
   "execution_count": 69,
   "id": "61495847",
   "metadata": {},
   "outputs": [
    {
     "data": {
      "image/png": "[encoded data removed]",
      "text/plain": [
       "<Figure size 432x288 with 1 Axes>"
      ]
     },
     "metadata": {
      "needs_background": "light"
     },
     "output_type": "display_data"
    }
   ],
   "source": [
    "plt.plot(range(3, 9), inertia_Val)\n",
    "plt.xlabel('cluster numbers')\n",
    "plt.ylabel('inertia values')\n",
    "plt.show()"
   ]
  },
  {
   "cell_type": "markdown",
   "id": "c7808b34",
   "metadata": {},
   "source": [
    "## what is the value of k at elbow"
   ]
  },
  {
   "cell_type": "code",
   "execution_count": 66,
   "id": "9f8813db",
   "metadata": {},
   "outputs": [],
   "source": [
    "# value of k at elbow is 4"
   ]
  }
 ],
 "metadata": {
  "kernelspec": {
   "display_name": "Python 3",
   "language": "python",
   "name": "python3"
  },
  "language_info": {
   "codemirror_mode": {
    "name": "ipython",
    "version": 3
   },
   "file_extension": ".py",
   "mimetype": "text/x-python",
   "name": "python",
   "nbconvert_exporter": "python",
   "pygments_lexer": "ipython3",
   "version": "3.8.8"
  }
 },
 "nbformat": 4,
 "nbformat_minor": 5
}
