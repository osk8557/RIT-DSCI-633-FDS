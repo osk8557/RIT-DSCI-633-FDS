{
 "cells": [
  {
   "cell_type": "markdown",
   "metadata": {
    "id": "oJN5A4eKyT2b"
   },
   "source": [
    "# Setup"
   ]
  },
  {
   "cell_type": "markdown",
   "metadata": {
    "id": "q9uCUBN6yT2c"
   },
   "source": [
    "Import a few common modules"
   ]
  },
  {
   "cell_type": "code",
   "execution_count": 2,
   "metadata": {
    "colab": {
     "base_uri": "https://localhost:8080/"
    },
    "executionInfo": {
     "elapsed": 172,
     "status": "ok",
     "timestamp": 1636633385878,
     "user": {
      "displayName": "Nidhi Rastogi",
      "photoUrl": "https://lh3.googleusercontent.com/a/default-user=s64",
      "userId": "14784762166639519889"
     },
     "user_tz": 300
    },
    "id": "R1uvP5vDyT2d",
    "outputId": "819b2639-a78e-43bb-e459-e66e6bd3b4f6"
   },
   "outputs": [
    {
     "name": "stdout",
     "output_type": "stream",
     "text": [
      "The tensorboard extension is already loaded. To reload it, use:\n",
      "  %reload_ext tensorboard\n"
     ]
    }
   ],
   "source": [
    "#CODE for points = 1\n",
    "# import sklearn, numpy, os\n",
    "import sklearn\n",
    "import seaborn as sns\n",
    "import numpy as np\n",
    "import os\n",
    "\n",
    "# Python ≥3.5 is required\n",
    "import sys\n",
    "assert sys.version_info >= (3, 5)\n",
    "\n",
    "# Scikit-Learn ≥0.20 is required\n",
    "\n",
    "# TensorFlow ≥2.0 is required\n",
    "import tensorflow as tf\n",
    "from tensorflow import keras\n",
    "assert tf.__version__ >= \"2.0\"\n",
    "\n",
    "%load_ext tensorboard\n",
    "\n",
    "\n",
    "\n",
    "# to make this notebook's output stable across runs\n",
    "np.random.seed(42)\n"
   ]
  },
  {
   "cell_type": "markdown",
   "metadata": {
    "id": "jzMYiB0EyT2f"
   },
   "source": [
    "# Vanishing/Exploding Gradients Problem"
   ]
  },
  {
   "cell_type": "code",
   "execution_count": 3,
   "metadata": {
    "executionInfo": {
     "elapsed": 14,
     "status": "ok",
     "timestamp": 1636633386037,
     "user": {
      "displayName": "Nidhi Rastogi",
      "photoUrl": "https://lh3.googleusercontent.com/a/default-user=s64",
      "userId": "14784762166639519889"
     },
     "user_tz": 300
    },
    "id": "XFRcZCHRyT2g"
   },
   "outputs": [],
   "source": [
    "def logit(z):\n",
    "    return 1 / (1 + np.exp(-z))"
   ]
  },
  {
   "cell_type": "code",
   "execution_count": 4,
   "metadata": {
    "executionInfo": {
     "elapsed": 14,
     "status": "ok",
     "timestamp": 1636633386038,
     "user": {
      "displayName": "Nidhi Rastogi",
      "photoUrl": "https://lh3.googleusercontent.com/a/default-user=s64",
      "userId": "14784762166639519889"
     },
     "user_tz": 300
    },
    "id": "Q14TCXqxyT2g"
   },
   "outputs": [],
   "source": [
    "z = np.linspace(-5, 5, 200)"
   ]
  },
  {
   "cell_type": "markdown",
   "metadata": {
    "id": "jf45uObOyT2i"
   },
   "source": [
    "## Xavier and He Initialization"
   ]
  },
  {
   "cell_type": "code",
   "execution_count": 38,
   "metadata": {
    "colab": {
     "base_uri": "https://localhost:8080/"
    },
    "executionInfo": {
     "elapsed": 15,
     "status": "ok",
     "timestamp": 1636633386039,
     "user": {
      "displayName": "Nidhi Rastogi",
      "photoUrl": "https://lh3.googleusercontent.com/a/default-user=s64",
      "userId": "14784762166639519889"
     },
     "user_tz": 300
    },
    "id": "iQqSsCCxyT2j",
    "outputId": "7be28639-bca8-4df5-d6f0-b19dc14fcc6b"
   },
   "outputs": [
    {
     "data": {
      "text/plain": [
       "<keras.layers.core.Dense at 0x1d7fc1e5700>"
      ]
     },
     "execution_count": 38,
     "metadata": {},
     "output_type": "execute_result"
    }
   ],
   "source": [
    "#CODE for points = 1\n",
    "# set activation to relu and kernel initializer to he_normal\n",
    "\n",
    "keras.layers.Dense(10, activation='relu', kernel_initializer='he_normal')"
   ]
  },
  {
   "cell_type": "markdown",
   "metadata": {
    "id": "VKeun9hyyT2k"
   },
   "source": [
    "### Leaky ReLU"
   ]
  },
  {
   "cell_type": "code",
   "execution_count": 39,
   "metadata": {
    "executionInfo": {
     "elapsed": 12,
     "status": "ok",
     "timestamp": 1636633386040,
     "user": {
      "displayName": "Nidhi Rastogi",
      "photoUrl": "https://lh3.googleusercontent.com/a/default-user=s64",
      "userId": "14784762166639519889"
     },
     "user_tz": 300
    },
    "id": "c1HuzTv0yT2k"
   },
   "outputs": [],
   "source": [
    "#CODE for points = 1\n",
    "\n",
    "# remember α is the hyperparameter that defines how much the function “leaks”\n",
    "# set the value of alpha, use the value typically set\n",
    "\n",
    "def leaky_relu(z, alpha=0.3):\n",
    "    return np.maximum(alpha*z, z)"
   ]
  },
  {
   "cell_type": "markdown",
   "metadata": {
    "id": "WUD0kkZdyT2l"
   },
   "source": [
    "Let's train a neural network on Fashion MNIST using the Leaky ReLU:"
   ]
  },
  {
   "cell_type": "code",
   "execution_count": 40,
   "metadata": {
    "executionInfo": {
     "elapsed": 1166,
     "status": "ok",
     "timestamp": 1636633387195,
     "user": {
      "displayName": "Nidhi Rastogi",
      "photoUrl": "https://lh3.googleusercontent.com/a/default-user=s64",
      "userId": "14784762166639519889"
     },
     "user_tz": 300
    },
    "id": "-ijUxHfhyT2m"
   },
   "outputs": [],
   "source": [
    "#CODE for points = 1\n",
    "#load MNIST dataset from keras\n",
    "\n",
    "(X_train_full, y_train_full), (X_test, y_test) = tf.keras.datasets.mnist.load_data()\n",
    "X_train_full = X_train_full / 255.0\n",
    "X_test = X_test / 255.0\n",
    "X_valid, X_train = X_train_full[:5000], X_train_full[5000:]\n",
    "y_valid, y_train = y_train_full[:5000], y_train_full[5000:]"
   ]
  },
  {
   "cell_type": "code",
   "execution_count": 41,
   "metadata": {
    "executionInfo": {
     "elapsed": 191,
     "status": "ok",
     "timestamp": 1636633387383,
     "user": {
      "displayName": "Nidhi Rastogi",
      "photoUrl": "https://lh3.googleusercontent.com/a/default-user=s64",
      "userId": "14784762166639519889"
     },
     "user_tz": 300
    },
    "id": "GDnaASswyT2m"
   },
   "outputs": [],
   "source": [
    "#CODE for points = 1\n",
    "\n",
    "# initialize kernel_initializer to \"he_normal\" and activation function to softmax\n",
    "\n",
    "tf.random.set_seed(42)\n",
    "np.random.seed(42)\n",
    "\n",
    "model = keras.models.Sequential([\n",
    "    keras.layers.Flatten(input_shape=[28, 28]),\n",
    "    keras.layers.Dense(300, kernel_initializer=\"he_normal\"),\n",
    "    keras.layers.LeakyReLU(),\n",
    "    keras.layers.Dense(100, kernel_initializer=\"he_normal\"),\n",
    "    keras.layers.LeakyReLU(),\n",
    "    keras.layers.Dense(10, activation=\"softmax\")\n",
    "])"
   ]
  },
  {
   "cell_type": "code",
   "execution_count": 42,
   "metadata": {
    "executionInfo": {
     "elapsed": 154,
     "status": "ok",
     "timestamp": 1636633395542,
     "user": {
      "displayName": "Nidhi Rastogi",
      "photoUrl": "https://lh3.googleusercontent.com/a/default-user=s64",
      "userId": "14784762166639519889"
     },
     "user_tz": 300
    },
    "id": "2qfd7pXdyT2m"
   },
   "outputs": [],
   "source": [
    "model.compile(loss=\"sparse_categorical_crossentropy\",\n",
    "              optimizer=keras.optimizers.SGD(learning_rate=1e-3),\n",
    "              metrics=[\"accuracy\"])"
   ]
  },
  {
   "cell_type": "code",
   "execution_count": 43,
   "metadata": {
    "colab": {
     "base_uri": "https://localhost:8080/"
    },
    "executionInfo": {
     "elapsed": 61967,
     "status": "ok",
     "timestamp": 1636632425512,
     "user": {
      "displayName": "Nidhi Rastogi",
      "photoUrl": "https://lh3.googleusercontent.com/a/default-user=s64",
      "userId": "14784762166639519889"
     },
     "user_tz": 300
    },
    "id": "nEyLFBtmyT2m",
    "outputId": "7eae651a-1d09-41d7-db28-54e7b9a0d545",
    "scrolled": true
   },
   "outputs": [
    {
     "name": "stdout",
     "output_type": "stream",
     "text": [
      "Epoch 1/5\n",
      "1719/1719 [==============================] - 4s 2ms/step - loss: 1.5275 - accuracy: 0.5970 - val_loss: 0.9444 - val_accuracy: 0.7980\n",
      "Epoch 2/5\n",
      "1719/1719 [==============================] - 4s 3ms/step - loss: 0.7465 - accuracy: 0.8287 - val_loss: 0.5868 - val_accuracy: 0.8596\n",
      "Epoch 3/5\n",
      "1719/1719 [==============================] - 4s 2ms/step - loss: 0.5412 - accuracy: 0.8624 - val_loss: 0.4685 - val_accuracy: 0.8834\n",
      "Epoch 4/5\n",
      "1719/1719 [==============================] - 4s 2ms/step - loss: 0.4591 - accuracy: 0.8771 - val_loss: 0.4104 - val_accuracy: 0.8940\n",
      "Epoch 5/5\n",
      "1719/1719 [==============================] - 4s 2ms/step - loss: 0.4142 - accuracy: 0.8869 - val_loss: 0.3758 - val_accuracy: 0.9006\n"
     ]
    }
   ],
   "source": [
    "history = model.fit(X_train, y_train, epochs=5,\n",
    "                    validation_data=(X_valid, y_valid))"
   ]
  },
  {
   "cell_type": "markdown",
   "metadata": {
    "id": "wdphkBRoyT2s"
   },
   "source": [
    "Now look at what happens if we try to use the ReLU activation function instead:"
   ]
  },
  {
   "cell_type": "code",
   "execution_count": 13,
   "metadata": {
    "executionInfo": {
     "elapsed": 129,
     "status": "ok",
     "timestamp": 1636632432199,
     "user": {
      "displayName": "Nidhi Rastogi",
      "photoUrl": "https://lh3.googleusercontent.com/a/default-user=s64",
      "userId": "14784762166639519889"
     },
     "user_tz": 300
    },
    "id": "szqns6OGyT2s"
   },
   "outputs": [],
   "source": [
    "np.random.seed(42)\n",
    "tf.random.set_seed(42)"
   ]
  },
  {
   "cell_type": "code",
   "execution_count": 14,
   "metadata": {
    "executionInfo": {
     "elapsed": 1246,
     "status": "ok",
     "timestamp": 1636632436528,
     "user": {
      "displayName": "Nidhi Rastogi",
      "photoUrl": "https://lh3.googleusercontent.com/a/default-user=s64",
      "userId": "14784762166639519889"
     },
     "user_tz": 300
    },
    "id": "Zu5g45C5yT2s"
   },
   "outputs": [],
   "source": [
    "model = keras.models.Sequential()\n",
    "model.add(keras.layers.Flatten(input_shape=[28, 28]))\n",
    "\n",
    "model.add(keras.layers.Dense(300, activation=\"relu\", kernel_initializer=\"he_normal\"))\n",
    "\n",
    "for layer in range(99):\n",
    "    model.add(keras.layers.Dense(100, activation=\"relu\", kernel_initializer=\"he_normal\"))\n",
    "\n",
    "model.add(keras.layers.Dense(10, activation=\"softmax\"))"
   ]
  },
  {
   "cell_type": "code",
   "execution_count": 15,
   "metadata": {
    "executionInfo": {
     "elapsed": 157,
     "status": "ok",
     "timestamp": 1636632438947,
     "user": {
      "displayName": "Nidhi Rastogi",
      "photoUrl": "https://lh3.googleusercontent.com/a/default-user=s64",
      "userId": "14784762166639519889"
     },
     "user_tz": 300
    },
    "id": "b8ziJs2PyT2s"
   },
   "outputs": [],
   "source": [
    "model.compile(loss=\"sparse_categorical_crossentropy\",\n",
    "              optimizer=keras.optimizers.SGD(learning_rate=1e-3),\n",
    "              metrics=[\"accuracy\"])"
   ]
  },
  {
   "cell_type": "code",
   "execution_count": 18,
   "metadata": {
    "colab": {
     "base_uri": "https://localhost:8080/"
    },
    "executionInfo": {
     "elapsed": 206299,
     "status": "ok",
     "timestamp": 1636632647953,
     "user": {
      "displayName": "Nidhi Rastogi",
      "photoUrl": "https://lh3.googleusercontent.com/a/default-user=s64",
      "userId": "14784762166639519889"
     },
     "user_tz": 300
    },
    "id": "1ATK0oSHyT2s",
    "outputId": "2cf7bb01-ede5-4818-a46a-99e3ac30642e"
   },
   "outputs": [
    {
     "name": "stdout",
     "output_type": "stream",
     "text": [
      "Epoch 1/5\n",
      "1719/1719 [==============================] - 20s 10ms/step - loss: 1.9468 - accuracy: 0.2432 - val_loss: 1.6701 - val_accuracy: 0.2934\n",
      "Epoch 2/5\n",
      "1719/1719 [==============================] - 17s 10ms/step - loss: 1.3989 - accuracy: 0.4275 - val_loss: 1.1889 - val_accuracy: 0.5358\n",
      "Epoch 3/5\n",
      "1719/1719 [==============================] - 17s 10ms/step - loss: 1.1199 - accuracy: 0.5636 - val_loss: 0.8977 - val_accuracy: 0.6654\n",
      "Epoch 4/5\n",
      "1719/1719 [==============================] - 18s 10ms/step - loss: 1.1025 - accuracy: 0.5861 - val_loss: 1.5360 - val_accuracy: 0.4210\n",
      "Epoch 5/5\n",
      "1719/1719 [==============================] - 17s 10ms/step - loss: 1.1326 - accuracy: 0.5700 - val_loss: 1.2128 - val_accuracy: 0.5202\n"
     ]
    }
   ],
   "source": [
    "history = model.fit(X_train, y_train, epochs=5,\n",
    "                    validation_data=(X_valid, y_valid))"
   ]
  },
  {
   "cell_type": "markdown",
   "metadata": {
    "id": "Zsa-9WY5yT2t"
   },
   "source": [
    "Not great at all, we suffered from the vanishing/exploding gradients problem."
   ]
  },
  {
   "cell_type": "markdown",
   "metadata": {
    "id": "NODlyFfnyT2t"
   },
   "source": [
    "# Batch Normalization"
   ]
  },
  {
   "cell_type": "code",
   "execution_count": 19,
   "metadata": {
    "executionInfo": {
     "elapsed": 249,
     "status": "ok",
     "timestamp": 1636632657711,
     "user": {
      "displayName": "Nidhi Rastogi",
      "photoUrl": "https://lh3.googleusercontent.com/a/default-user=s64",
      "userId": "14784762166639519889"
     },
     "user_tz": 300
    },
    "id": "IANuTmvzyT2t"
   },
   "outputs": [],
   "source": [
    "model = keras.models.Sequential([\n",
    "    keras.layers.Flatten(input_shape=[28, 28]),\n",
    "    keras.layers.BatchNormalization(),\n",
    "    keras.layers.Dense(300, activation=\"relu\"),\n",
    "    keras.layers.BatchNormalization(),\n",
    "    keras.layers.Dense(100, activation=\"relu\"),\n",
    "    keras.layers.BatchNormalization(),\n",
    "    keras.layers.Dense(10, activation=\"softmax\")\n",
    "])"
   ]
  },
  {
   "cell_type": "code",
   "execution_count": 20,
   "metadata": {
    "colab": {
     "base_uri": "https://localhost:8080/"
    },
    "executionInfo": {
     "elapsed": 7,
     "status": "ok",
     "timestamp": 1636632657883,
     "user": {
      "displayName": "Nidhi Rastogi",
      "photoUrl": "https://lh3.googleusercontent.com/a/default-user=s64",
      "userId": "14784762166639519889"
     },
     "user_tz": 300
    },
    "id": "jpkrSpmOyT2t",
    "outputId": "dd9a45b2-65cb-4abb-dfd2-e5bdbf9c375c"
   },
   "outputs": [
    {
     "name": "stdout",
     "output_type": "stream",
     "text": [
      "Model: \"sequential_2\"\n",
      "_________________________________________________________________\n",
      "Layer (type)                 Output Shape              Param #   \n",
      "=================================================================\n",
      "flatten_2 (Flatten)          (None, 784)               0         \n",
      "_________________________________________________________________\n",
      "batch_normalization (BatchNo (None, 784)               3136      \n",
      "_________________________________________________________________\n",
      "dense_106 (Dense)            (None, 300)               235500    \n",
      "_________________________________________________________________\n",
      "batch_normalization_1 (Batch (None, 300)               1200      \n",
      "_________________________________________________________________\n",
      "dense_107 (Dense)            (None, 100)               30100     \n",
      "_________________________________________________________________\n",
      "batch_normalization_2 (Batch (None, 100)               400       \n",
      "_________________________________________________________________\n",
      "dense_108 (Dense)            (None, 10)                1010      \n",
      "=================================================================\n",
      "Total params: 271,346\n",
      "Trainable params: 268,978\n",
      "Non-trainable params: 2,368\n",
      "_________________________________________________________________\n"
     ]
    }
   ],
   "source": [
    "model.summary()"
   ]
  },
  {
   "cell_type": "code",
   "execution_count": 21,
   "metadata": {
    "colab": {
     "base_uri": "https://localhost:8080/"
    },
    "executionInfo": {
     "elapsed": 6,
     "status": "ok",
     "timestamp": 1636632657884,
     "user": {
      "displayName": "Nidhi Rastogi",
      "photoUrl": "https://lh3.googleusercontent.com/a/default-user=s64",
      "userId": "14784762166639519889"
     },
     "user_tz": 300
    },
    "id": "SeHquM9ByT2t",
    "outputId": "f96e1452-1804-449d-95c3-80e9bc6a9b33"
   },
   "outputs": [
    {
     "data": {
      "text/plain": [
       "[('batch_normalization/gamma:0', True),\n",
       " ('batch_normalization/beta:0', True),\n",
       " ('batch_normalization/moving_mean:0', False),\n",
       " ('batch_normalization/moving_variance:0', False)]"
      ]
     },
     "execution_count": 21,
     "metadata": {},
     "output_type": "execute_result"
    }
   ],
   "source": [
    "bn1 = model.layers[1]\n",
    "[(var.name, var.trainable) for var in bn1.variables]"
   ]
  },
  {
   "cell_type": "code",
   "execution_count": 22,
   "metadata": {
    "executionInfo": {
     "elapsed": 5,
     "status": "ok",
     "timestamp": 1636632657884,
     "user": {
      "displayName": "Nidhi Rastogi",
      "photoUrl": "https://lh3.googleusercontent.com/a/default-user=s64",
      "userId": "14784762166639519889"
     },
     "user_tz": 300
    },
    "id": "nzC0HW2byT2u"
   },
   "outputs": [],
   "source": [
    "#bn1.updates #deprecated"
   ]
  },
  {
   "cell_type": "code",
   "execution_count": 23,
   "metadata": {
    "executionInfo": {
     "elapsed": 5,
     "status": "ok",
     "timestamp": 1636632657884,
     "user": {
      "displayName": "Nidhi Rastogi",
      "photoUrl": "https://lh3.googleusercontent.com/a/default-user=s64",
      "userId": "14784762166639519889"
     },
     "user_tz": 300
    },
    "id": "wsaT9GAeyT2u"
   },
   "outputs": [],
   "source": [
    "model.compile(loss=\"sparse_categorical_crossentropy\",\n",
    "              optimizer=keras.optimizers.SGD(learning_rate=1e-3),\n",
    "              metrics=[\"accuracy\"])"
   ]
  },
  {
   "cell_type": "code",
   "execution_count": 24,
   "metadata": {
    "colab": {
     "base_uri": "https://localhost:8080/"
    },
    "executionInfo": {
     "elapsed": 82427,
     "status": "ok",
     "timestamp": 1636632753208,
     "user": {
      "displayName": "Nidhi Rastogi",
      "photoUrl": "https://lh3.googleusercontent.com/a/default-user=s64",
      "userId": "14784762166639519889"
     },
     "user_tz": 300
    },
    "id": "71G_x6M7yT2u",
    "outputId": "89ad1b7c-0ac4-4f84-9db4-15a095efe805"
   },
   "outputs": [
    {
     "name": "stdout",
     "output_type": "stream",
     "text": [
      "Epoch 1/5\n",
      "1719/1719 [==============================] - 7s 4ms/step - loss: 0.8619 - accuracy: 0.7334 - val_loss: 0.4687 - val_accuracy: 0.8714\n",
      "Epoch 2/5\n",
      "1719/1719 [==============================] - 6s 4ms/step - loss: 0.4346 - accuracy: 0.8733 - val_loss: 0.3494 - val_accuracy: 0.9038\n",
      "Epoch 3/5\n",
      "1719/1719 [==============================] - 6s 4ms/step - loss: 0.3559 - accuracy: 0.8965 - val_loss: 0.3001 - val_accuracy: 0.9174\n",
      "Epoch 4/5\n",
      "1719/1719 [==============================] - 6s 4ms/step - loss: 0.3116 - accuracy: 0.9100 - val_loss: 0.2695 - val_accuracy: 0.9242\n",
      "Epoch 5/5\n",
      "1719/1719 [==============================] - 7s 4ms/step - loss: 0.2815 - accuracy: 0.9175 - val_loss: 0.2444 - val_accuracy: 0.9306\n"
     ]
    }
   ],
   "source": [
    "history = model.fit(X_train, y_train, epochs=5,\n",
    "                    validation_data=(X_valid, y_valid))"
   ]
  },
  {
   "cell_type": "markdown",
   "metadata": {
    "id": "MVtHTRXPyT2u"
   },
   "source": [
    "Sometimes applying BN before the activation function works better (there's a debate on this topic). Moreover, the layer before a `BatchNormalization` layer does not need to have bias terms, since the `BatchNormalization` layer some as well, it would be a waste of parameters, so you can set `use_bias=False` when creating those layers:"
   ]
  },
  {
   "cell_type": "code",
   "execution_count": 25,
   "metadata": {
    "executionInfo": {
     "elapsed": 14,
     "status": "ok",
     "timestamp": 1636632753209,
     "user": {
      "displayName": "Nidhi Rastogi",
      "photoUrl": "https://lh3.googleusercontent.com/a/default-user=s64",
      "userId": "14784762166639519889"
     },
     "user_tz": 300
    },
    "id": "AOHLeX3gyT2v"
   },
   "outputs": [],
   "source": [
    "model = keras.models.Sequential([\n",
    "    keras.layers.Flatten(input_shape=[28, 28]),\n",
    "    keras.layers.BatchNormalization(),\n",
    "    keras.layers.Dense(300, use_bias=False),\n",
    "    keras.layers.BatchNormalization(),\n",
    "    keras.layers.Activation(\"relu\"),\n",
    "    keras.layers.Dense(100, use_bias=False),\n",
    "    keras.layers.BatchNormalization(),\n",
    "    keras.layers.Activation(\"relu\"),\n",
    "    keras.layers.Dense(10, activation=\"softmax\")\n",
    "])"
   ]
  },
  {
   "cell_type": "code",
   "execution_count": 26,
   "metadata": {
    "executionInfo": {
     "elapsed": 13,
     "status": "ok",
     "timestamp": 1636632753209,
     "user": {
      "displayName": "Nidhi Rastogi",
      "photoUrl": "https://lh3.googleusercontent.com/a/default-user=s64",
      "userId": "14784762166639519889"
     },
     "user_tz": 300
    },
    "id": "xMcbKZ0OyT2v"
   },
   "outputs": [],
   "source": [
    "model.compile(loss=\"sparse_categorical_crossentropy\",\n",
    "              optimizer=keras.optimizers.SGD(learning_rate=1e-3),\n",
    "              metrics=[\"accuracy\"])"
   ]
  },
  {
   "cell_type": "code",
   "execution_count": 27,
   "metadata": {
    "colab": {
     "base_uri": "https://localhost:8080/"
    },
    "executionInfo": {
     "elapsed": 51936,
     "status": "ok",
     "timestamp": 1636632880991,
     "user": {
      "displayName": "Nidhi Rastogi",
      "photoUrl": "https://lh3.googleusercontent.com/a/default-user=s64",
      "userId": "14784762166639519889"
     },
     "user_tz": 300
    },
    "id": "gGco3TNkyT2v",
    "outputId": "521a34d9-13ce-475f-eb80-baed0c30f1d7"
   },
   "outputs": [
    {
     "name": "stdout",
     "output_type": "stream",
     "text": [
      "Epoch 1/5\n",
      "1719/1719 [==============================] - 7s 4ms/step - loss: 1.1288 - accuracy: 0.6813 - val_loss: 0.6171 - val_accuracy: 0.8486\n",
      "Epoch 2/5\n",
      "1719/1719 [==============================] - 6s 3ms/step - loss: 0.5778 - accuracy: 0.8548 - val_loss: 0.4354 - val_accuracy: 0.8920\n",
      "Epoch 3/5\n",
      "1719/1719 [==============================] - 6s 4ms/step - loss: 0.4590 - accuracy: 0.8818 - val_loss: 0.3585 - val_accuracy: 0.9108\n",
      "Epoch 4/5\n",
      "1719/1719 [==============================] - 7s 4ms/step - loss: 0.3954 - accuracy: 0.8957 - val_loss: 0.3152 - val_accuracy: 0.9184\n",
      "Epoch 5/5\n",
      "1719/1719 [==============================] - 7s 4ms/step - loss: 0.3552 - accuracy: 0.9033 - val_loss: 0.2840 - val_accuracy: 0.9252\n"
     ]
    }
   ],
   "source": [
    "history = model.fit(X_train, y_train, epochs=5,\n",
    "                    validation_data=(X_valid, y_valid))"
   ]
  },
  {
   "cell_type": "markdown",
   "metadata": {
    "id": "gZcjpY7TyT2z"
   },
   "source": [
    "# Faster Optimizers"
   ]
  },
  {
   "cell_type": "markdown",
   "metadata": {
    "id": "QzvjID6IyT20"
   },
   "source": [
    "## Momentum optimization"
   ]
  },
  {
   "cell_type": "code",
   "execution_count": 28,
   "metadata": {
    "executionInfo": {
     "elapsed": 21,
     "status": "ok",
     "timestamp": 1636632880992,
     "user": {
      "displayName": "Nidhi Rastogi",
      "photoUrl": "https://lh3.googleusercontent.com/a/default-user=s64",
      "userId": "14784762166639519889"
     },
     "user_tz": 300
    },
    "id": "W_8slx2ByT20"
   },
   "outputs": [],
   "source": [
    "#CODE for points = 1\n",
    "# initialize lr and momentum to typical values\n",
    "\n",
    "optimizer = keras.optimizers.SGD(learning_rate=0.1, momentum=0.9)"
   ]
  },
  {
   "cell_type": "markdown",
   "metadata": {
    "id": "QTF0A3-oyT20"
   },
   "source": [
    "## Nesterov Accelerated Gradient"
   ]
  },
  {
   "cell_type": "code",
   "execution_count": 29,
   "metadata": {
    "executionInfo": {
     "elapsed": 21,
     "status": "ok",
     "timestamp": 1636632880993,
     "user": {
      "displayName": "Nidhi Rastogi",
      "photoUrl": "https://lh3.googleusercontent.com/a/default-user=s64",
      "userId": "14784762166639519889"
     },
     "user_tz": 300
    },
    "id": "piqxQeEwyT21"
   },
   "outputs": [],
   "source": [
    "#CODE for points = 1\n",
    "# initialize lr and momentum to typical values. Set nesterov so that it is used\n",
    "\n",
    "optimizer = keras.optimizers.SGD(learning_rate=0.1, momentum=0.9, nesterov=True)"
   ]
  },
  {
   "cell_type": "markdown",
   "metadata": {
    "id": "G7VG-ueuyT2-"
   },
   "source": [
    "# Avoiding Overfitting Through Regularization"
   ]
  },
  {
   "cell_type": "markdown",
   "metadata": {
    "id": "to1x3hcIyT2-"
   },
   "source": [
    "## $\\ell_1$ and $\\ell_2$ regularization"
   ]
  },
  {
   "cell_type": "code",
   "execution_count": 30,
   "metadata": {
    "executionInfo": {
     "elapsed": 210,
     "status": "ok",
     "timestamp": 1636632992431,
     "user": {
      "displayName": "Nidhi Rastogi",
      "photoUrl": "https://lh3.googleusercontent.com/a/default-user=s64",
      "userId": "14784762166639519889"
     },
     "user_tz": 300
    },
    "id": "saUIENUUyT2-"
   },
   "outputs": [],
   "source": [
    "#CODE for points = 0.5\n",
    "\n",
    "# Use syntax for assigning l2 regularization with a factor 0.01 as given here - https://keras.io/api/layers/regularizers/\n",
    "\n",
    "layer = keras.layers.Dense(100, activation=\"elu\",\n",
    "                           kernel_initializer=\"he_normal\",\n",
    "                           kernel_regularizer=tf.keras.regularizers.l2(0.01))"
   ]
  },
  {
   "cell_type": "code",
   "execution_count": 33,
   "metadata": {
    "colab": {
     "base_uri": "https://localhost:8080/"
    },
    "executionInfo": {
     "elapsed": 28924,
     "status": "ok",
     "timestamp": 1636633021500,
     "user": {
      "displayName": "Nidhi Rastogi",
      "photoUrl": "https://lh3.googleusercontent.com/a/default-user=s64",
      "userId": "14784762166639519889"
     },
     "user_tz": 300
    },
    "id": "EBqxkuQCyT2-",
    "outputId": "0fb21ca3-ecca-4774-a910-464a88435391"
   },
   "outputs": [
    {
     "name": "stdout",
     "output_type": "stream",
     "text": [
      "Epoch 1/2\n",
      "1719/1719 [==============================] - 9s 5ms/step - loss: 1.2773 - accuracy: 0.8766 - val_loss: 0.8154 - val_accuracy: 0.8884\n",
      "Epoch 2/2\n",
      "1719/1719 [==============================] - 8s 5ms/step - loss: 0.8188 - accuracy: 0.8850 - val_loss: 0.7758 - val_accuracy: 0.9030\n"
     ]
    }
   ],
   "source": [
    "#CODE for points = 1\n",
    "\n",
    "# Use syntax for assigning l2 regularization with a factor 0.01 as given here - https://keras.io/api/layers/regularizers/\n",
    "# nadam optimizer\n",
    "\n",
    "model = keras.models.Sequential([\n",
    "    keras.layers.Flatten(input_shape=[28, 28]),\n",
    "    keras.layers.Dense(300, activation=\"elu\",\n",
    "                       kernel_initializer=\"he_normal\",\n",
    "                       kernel_regularizer=tf.keras.regularizers.l2(0.01)),\n",
    "    keras.layers.Dense(100, activation=\"elu\",\n",
    "                       kernel_initializer=\"he_normal\",\n",
    "                       kernel_regularizer=tf.keras.regularizers.l2(0.01)),\n",
    "    keras.layers.Dense(10, activation=\"softmax\",\n",
    "                       kernel_regularizer=tf.keras.regularizers.l2(0.01))\n",
    "])\n",
    "model.compile(loss=\"sparse_categorical_crossentropy\", optimizer=\"nadam\", metrics=[\"accuracy\"])\n",
    "n_epochs = 2\n",
    "history = model.fit(X_train, y_train, epochs=n_epochs,\n",
    "                    validation_data=(X_valid, y_valid))"
   ]
  },
  {
   "cell_type": "code",
   "execution_count": 35,
   "metadata": {
    "colab": {
     "base_uri": "https://localhost:8080/"
    },
    "executionInfo": {
     "elapsed": 29454,
     "status": "ok",
     "timestamp": 1636633050937,
     "user": {
      "displayName": "Nidhi Rastogi",
      "photoUrl": "https://lh3.googleusercontent.com/a/default-user=s64",
      "userId": "14784762166639519889"
     },
     "user_tz": 300
    },
    "id": "IyzDPdgbyT2-",
    "outputId": "778609a2-40b4-465e-a72f-d99896d7a948"
   },
   "outputs": [],
   "source": [
    "#CODE for points = .5\n",
    "\n",
    "# Use syntax for assigning l2 regularization with a factor 0.01 as given here - https://keras.io/api/layers/regularizers/\n",
    "\n",
    "from functools import partial\n",
    "\n",
    "RegularizedDense = partial(keras.layers.Dense,\n",
    "                           activation=\"elu\",\n",
    "                           kernel_initializer=\"he_normal\",\n",
    "                           kernel_regularizer=tf.keras.regularizers.l2(0.01))"
   ]
  },
  {
   "cell_type": "code",
   "execution_count": 37,
   "metadata": {
    "id": "oW0OIFKABTNZ"
   },
   "outputs": [
    {
     "name": "stdout",
     "output_type": "stream",
     "text": [
      "Epoch 1/2\n",
      "1719/1719 [==============================] - 10s 5ms/step - loss: 1.2926 - accuracy: 0.8764 - val_loss: 0.8167 - val_accuracy: 0.8898\n",
      "Epoch 2/2\n",
      "1719/1719 [==============================] - 8s 5ms/step - loss: 0.8209 - accuracy: 0.8851 - val_loss: 0.7753 - val_accuracy: 0.9026\n"
     ]
    }
   ],
   "source": [
    "#CODE for points = 1\n",
    "\n",
    "# activation function initialized as softmax\n",
    "# nadam optimizer\n",
    "\n",
    "\n",
    "model = keras.models.Sequential([\n",
    "    keras.layers.Flatten(input_shape=[28, 28]),\n",
    "    RegularizedDense(300),\n",
    "    RegularizedDense(100),\n",
    "    RegularizedDense(10, activation=\"softmax\")\n",
    "])\n",
    "model.compile(loss=\"sparse_categorical_crossentropy\", optimizer=\"nadam\", metrics=[\"accuracy\"])\n",
    "n_epochs = 2\n",
    "history = model.fit(X_train, y_train, epochs=n_epochs,\n",
    "                    validation_data=(X_valid, y_valid))\n"
   ]
  },
  {
   "cell_type": "code",
   "execution_count": null,
   "metadata": {},
   "outputs": [],
   "source": []
  }
 ],
 "metadata": {
  "colab": {
   "collapsed_sections": [],
   "name": "Class Exercise 11/11.ipynb",
   "provenance": [
    {
     "file_id": "1dwtW7iOCGbESkR3_9GEcv4SYv5xMGbmb",
     "timestamp": 1636632032125
    },
    {
     "file_id": "https://github.com/ageron/handson-ml2/blob/master/11_training_deep_neural_networks.ipynb",
     "timestamp": 1636630626272
    }
   ]
  },
  "kernelspec": {
   "display_name": "Python 3",
   "language": "python",
   "name": "python3"
  },
  "language_info": {
   "codemirror_mode": {
    "name": "ipython",
    "version": 3
   },
   "file_extension": ".py",
   "mimetype": "text/x-python",
   "name": "python",
   "nbconvert_exporter": "python",
   "pygments_lexer": "ipython3",
   "version": "3.8.8"
  },
  "nav_menu": {
   "height": "360px",
   "width": "416px"
  },
  "toc": {
   "navigate_menu": true,
   "number_sections": true,
   "sideBar": true,
   "threshold": 6,
   "toc_cell": false,
   "toc_section_display": "block",
   "toc_window_display": false
  }
 },
 "nbformat": 4,
 "nbformat_minor": 1
}
